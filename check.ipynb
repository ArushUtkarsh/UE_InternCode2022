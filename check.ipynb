{
 "cells": [
  {
   "cell_type": "code",
   "execution_count": 1,
   "id": "2dfe09af",
   "metadata": {},
   "outputs": [
    {
     "name": "stdout",
     "output_type": "stream",
     "text": [
      "You are connected to Cytoscape!\n"
     ]
    },
    {
     "data": {
      "text/plain": [
       "{'apiVersion': 'v1',\n",
       " 'cytoscapeVersion': '3.9.1',\n",
       " 'automationAPIVersion': '1.5.0',\n",
       " 'py4cytoscapeVersion': '1.3.0'}"
      ]
     },
     "execution_count": 1,
     "metadata": {},
     "output_type": "execute_result"
    }
   ],
   "source": [
    "import py4cytoscape as p4c\n",
    "p4c.cytoscape_ping()\n",
    "p4c.cytoscape_version_info()"
   ]
  },
  {
   "cell_type": "code",
   "execution_count": 2,
   "id": "03034dc9",
   "metadata": {},
   "outputs": [
    {
     "name": "stdout",
     "output_type": "stream",
     "text": [
      "[[-0.7399602  -0.6757396 ]\n",
      " [-0.05716249  0.98629292]\n",
      " [-0.27202226  0.09349048]\n",
      " ...\n",
      " [ 0.22565075 -0.93415343]\n",
      " [ 0.15287123 -0.30518982]\n",
      " [ 0.97673939  0.23809466]]\n",
      "KeplerMapper(verbose=1)\n",
      "..Composing projection pipeline of length 1:\n",
      "\tProjections: [0, 1]\n",
      "\tDistance matrices: False\n",
      "\tScalers: MinMaxScaler()\n",
      "..Projecting on data shaped (5000, 2)\n",
      "\n",
      "..Projecting data using: [0, 1]\n",
      "\n",
      "..Scaling with: MinMaxScaler()\n",
      "\n",
      "Mapping on data shaped (5000, 2) using lens shaped (5000, 2)\n",
      "\n",
      "Creating 100 hypercubes.\n",
      "\n",
      "Created 253 edges and 96 nodes in 0:00:00.128737.\n",
      "Wrote visualization to: make_circles_keplermapper_output.sif\n"
     ]
    }
   ],
   "source": [
    "# Import the class\n",
    "import kmapper as km\n",
    "\n",
    "# Some sample data\n",
    "from sklearn import datasets\n",
    "data, labels = datasets.make_circles(n_samples=5000, noise=0.03, factor=0.3)\n",
    "print(data)\n",
    "\n",
    "# Initialize\n",
    "mapper = km.KeplerMapper(verbose=1)\n",
    "\n",
    "# Fit to and transform the data\n",
    "projected_data = mapper.fit_transform(data, projection=[0,1]) # X-Y axis\n",
    "\n",
    "# Create a cover with 10 elements\n",
    "cover = km.Cover(n_cubes=10)\n",
    "\n",
    "# Create dictionary called 'graph' with nodes, edges and meta-information\n",
    "graph = mapper.map(projected_data, data, cover=cover)\n",
    "\n",
    "# Visualize it\n",
    "temp = mapper.visualize(graph, path_html=\"make_circles_keplermapper_output.sif\",\n",
    "                 title=\"make_circles(n_samples=5000, noise=0.03, factor=0.3)\")\n",
    "\n",
    "import pandas as pd\n",
    "df = pd.DataFrame(dict(x=data[:,0], y=data[:,1], label=labels))"
   ]
  },
  {
   "cell_type": "code",
   "execution_count": 13,
   "id": "5f1056c8",
   "metadata": {},
   "outputs": [
    {
     "name": "stdout",
     "output_type": "stream",
     "text": [
      "defaultdict(<class 'list'>, {'cube0_cluster0': ['cube1_cluster0', 'cube9_cluster0', 'cube10_cluster0'], 'cube1_cluster0': ['cube2_cluster0', 'cube9_cluster0', 'cube10_cluster0', 'cube11_cluster0'], 'cube2_cluster0': ['cube3_cluster0', 'cube10_cluster0', 'cube11_cluster0', 'cube12_cluster0'], 'cube3_cluster0': ['cube4_cluster0', 'cube11_cluster0', 'cube12_cluster0', 'cube13_cluster0'], 'cube4_cluster0': ['cube5_cluster0', 'cube12_cluster0', 'cube13_cluster0', 'cube14_cluster0'], 'cube5_cluster0': ['cube6_cluster0', 'cube13_cluster0', 'cube14_cluster0', 'cube15_cluster0'], 'cube6_cluster0': ['cube7_cluster0', 'cube14_cluster0', 'cube15_cluster0', 'cube16_cluster0'], 'cube7_cluster0': ['cube15_cluster0', 'cube16_cluster0'], 'cube8_cluster0': ['cube9_cluster0', 'cube18_cluster0', 'cube19_cluster0'], 'cube9_cluster0': ['cube10_cluster0', 'cube18_cluster0', 'cube19_cluster0', 'cube20_cluster0'], 'cube10_cluster0': ['cube11_cluster0', 'cube19_cluster0', 'cube20_cluster0'], 'cube11_cluster0': ['cube12_cluster0'], 'cube12_cluster0': ['cube13_cluster0'], 'cube13_cluster0': ['cube14_cluster0'], 'cube14_cluster0': ['cube15_cluster0'], 'cube15_cluster0': ['cube16_cluster0', 'cube25_cluster0', 'cube26_cluster0'], 'cube16_cluster0': ['cube17_cluster0', 'cube25_cluster0', 'cube26_cluster0', 'cube27_cluster0'], 'cube17_cluster0': ['cube26_cluster0', 'cube27_cluster0'], 'cube18_cluster0': ['cube19_cluster0', 'cube28_cluster0', 'cube29_cluster0'], 'cube19_cluster0': ['cube20_cluster0', 'cube28_cluster0', 'cube29_cluster0'], 'cube22_cluster0': ['cube23_cluster0', 'cube30_cluster0', 'cube31_cluster0', 'cube32_cluster0'], 'cube23_cluster0': ['cube24_cluster0', 'cube31_cluster0', 'cube32_cluster0', 'cube33_cluster0'], 'cube24_cluster0': ['cube32_cluster0', 'cube33_cluster0'], 'cube25_cluster0': ['cube26_cluster0'], 'cube26_cluster0': ['cube27_cluster0', 'cube35_cluster0', 'cube36_cluster0'], 'cube27_cluster0': ['cube35_cluster0', 'cube36_cluster0'], 'cube28_cluster0': ['cube29_cluster0', 'cube37_cluster0', 'cube38_cluster0'], 'cube29_cluster0': ['cube37_cluster0', 'cube38_cluster0'], 'cube30_cluster0': ['cube31_cluster0', 'cube40_cluster0', 'cube41_cluster0'], 'cube31_cluster0': ['cube32_cluster0', 'cube40_cluster0', 'cube41_cluster0', 'cube42_cluster0'], 'cube32_cluster0': ['cube33_cluster0', 'cube41_cluster0', 'cube42_cluster0', 'cube43_cluster0'], 'cube33_cluster0': ['cube34_cluster0', 'cube42_cluster0', 'cube43_cluster0', 'cube44_cluster0'], 'cube34_cluster0': ['cube43_cluster0', 'cube44_cluster0'], 'cube35_cluster0': ['cube36_cluster0', 'cube45_cluster0', 'cube46_cluster0'], 'cube36_cluster0': ['cube45_cluster0', 'cube46_cluster0'], 'cube37_cluster0': ['cube38_cluster0', 'cube47_cluster0', 'cube48_cluster0'], 'cube38_cluster0': ['cube47_cluster0', 'cube48_cluster0'], 'cube39_cluster0': ['cube40_cluster0', 'cube49_cluster0', 'cube50_cluster0'], 'cube40_cluster0': ['cube41_cluster0', 'cube49_cluster0', 'cube50_cluster0', 'cube51_cluster0'], 'cube41_cluster0': ['cube42_cluster0', 'cube50_cluster0', 'cube51_cluster0'], 'cube42_cluster0': ['cube43_cluster0', 'cube52_cluster0', 'cube53_cluster0'], 'cube43_cluster0': ['cube44_cluster0', 'cube52_cluster0', 'cube53_cluster0', 'cube54_cluster0'], 'cube44_cluster0': ['cube53_cluster0', 'cube54_cluster0'], 'cube45_cluster0': ['cube46_cluster0', 'cube55_cluster0', 'cube56_cluster0'], 'cube46_cluster0': ['cube55_cluster0', 'cube56_cluster0'], 'cube47_cluster0': ['cube48_cluster0', 'cube57_cluster0', 'cube58_cluster0'], 'cube48_cluster0': ['cube57_cluster0', 'cube58_cluster0'], 'cube49_cluster0': ['cube50_cluster0', 'cube60_cluster0'], 'cube50_cluster0': ['cube51_cluster0', 'cube60_cluster0', 'cube61_cluster0'], 'cube51_cluster0': ['cube52_cluster0', 'cube60_cluster0', 'cube61_cluster0', 'cube62_cluster0'], 'cube52_cluster0': ['cube53_cluster0', 'cube61_cluster0', 'cube62_cluster0', 'cube63_cluster0'], 'cube53_cluster0': ['cube54_cluster0', 'cube62_cluster0', 'cube63_cluster0', 'cube64_cluster0'], 'cube54_cluster0': ['cube63_cluster0', 'cube64_cluster0'], 'cube55_cluster0': ['cube56_cluster0', 'cube65_cluster0', 'cube66_cluster0'], 'cube56_cluster0': ['cube65_cluster0', 'cube66_cluster0'], 'cube57_cluster0': ['cube58_cluster0', 'cube67_cluster0', 'cube68_cluster0'], 'cube58_cluster0': ['cube67_cluster0', 'cube68_cluster0'], 'cube60_cluster0': ['cube61_cluster0', 'cube70_cluster0', 'cube71_cluster0'], 'cube61_cluster0': ['cube62_cluster0', 'cube70_cluster0', 'cube71_cluster0', 'cube72_cluster0'], 'cube62_cluster0': ['cube63_cluster0', 'cube71_cluster0', 'cube72_cluster0', 'cube73_cluster0'], 'cube63_cluster0': ['cube64_cluster0', 'cube72_cluster0', 'cube73_cluster0'], 'cube65_cluster0': ['cube66_cluster0', 'cube75_cluster0', 'cube76_cluster0'], 'cube66_cluster0': ['cube75_cluster0', 'cube76_cluster0'], 'cube67_cluster0': ['cube68_cluster0', 'cube77_cluster0', 'cube78_cluster0'], 'cube68_cluster0': ['cube69_cluster0', 'cube77_cluster0', 'cube78_cluster0', 'cube79_cluster0'], 'cube69_cluster0': ['cube78_cluster0', 'cube79_cluster0'], 'cube70_cluster0': ['cube71_cluster0'], 'cube71_cluster0': ['cube72_cluster0'], 'cube72_cluster0': ['cube73_cluster0'], 'cube74_cluster0': ['cube75_cluster0', 'cube84_cluster0', 'cube85_cluster0'], 'cube75_cluster0': ['cube76_cluster0', 'cube84_cluster0', 'cube85_cluster0', 'cube86_cluster0'], 'cube76_cluster0': ['cube85_cluster0', 'cube86_cluster0'], 'cube77_cluster0': ['cube78_cluster0'], 'cube78_cluster0': ['cube79_cluster0', 'cube87_cluster0', 'cube88_cluster0'], 'cube79_cluster0': ['cube80_cluster0', 'cube87_cluster0', 'cube88_cluster0', 'cube89_cluster0'], 'cube80_cluster0': ['cube81_cluster0', 'cube88_cluster0', 'cube89_cluster0', 'cube90_cluster0'], 'cube81_cluster0': ['cube82_cluster0', 'cube89_cluster0', 'cube90_cluster0', 'cube91_cluster0'], 'cube82_cluster0': ['cube83_cluster0', 'cube90_cluster0', 'cube91_cluster0', 'cube92_cluster0'], 'cube83_cluster0': ['cube84_cluster0', 'cube91_cluster0', 'cube92_cluster0', 'cube93_cluster0'], 'cube84_cluster0': ['cube85_cluster0', 'cube92_cluster0', 'cube93_cluster0', 'cube94_cluster0'], 'cube85_cluster0': ['cube86_cluster0', 'cube93_cluster0', 'cube94_cluster0'], 'cube87_cluster0': ['cube88_cluster0'], 'cube88_cluster0': ['cube89_cluster0'], 'cube89_cluster0': ['cube90_cluster0'], 'cube90_cluster0': ['cube91_cluster0'], 'cube91_cluster0': ['cube92_cluster0'], 'cube92_cluster0': ['cube93_cluster0'], 'cube93_cluster0': ['cube94_cluster0']})\n",
      "Applying default style...\n",
      "Applying preferred layout\n"
     ]
    },
    {
     "data": {
      "text/plain": [
       "7552"
      ]
     },
     "execution_count": 13,
     "metadata": {},
     "output_type": "execute_result"
    }
   ],
   "source": [
    "#nodes = pd.DataFrame(data={'id': [\"node 0\",\"node 1\",\"node 2\",\"node 3\"], 'group': [\"A\",\"A\",\"B\",\"B\"], 'score': [20,10,15,5]})\n",
    "#edges = pd.DataFrame(data={'source': [\"node 0\",\"node 0\",\"node 0\",\"node 2\"], 'target': [\"node 1\",\"node 2\",\"node 3\",\"node 3\"], 'interaction': [\"inhibits\",\"interacts\",\"activates\",\"interacts\"], 'weight': [5.1,3.0,5.2,9.9]})\n",
    "\n",
    "nodes = graph['nodes']\n",
    "links = graph['links']\n",
    "print(links)\n",
    "nodelist = nodes.keys()\n",
    "source = []\n",
    "target = []\n",
    "for i in links.keys():\n",
    "    ways = links[i]\n",
    "    for j in ways:\n",
    "        source.append(i)\n",
    "        target.append(j)\n",
    "nodess = pd.DataFrame(data={'id': nodelist})\n",
    "edges = pd.DataFrame(data={'source': source, 'target': target})\n",
    "p4c.create_network_from_data_frames(nodess, edges, title=\"my first network\", collection=\"DataFrame Example\")"
   ]
  },
  {
   "cell_type": "code",
   "execution_count": 12,
   "id": "37d0b904",
   "metadata": {},
   "outputs": [
    {
     "ename": "AttributeError",
     "evalue": "'dict' object has no attribute 'edges'",
     "output_type": "error",
     "traceback": [
      "\u001b[0;31m---------------------------------------------------------------------------\u001b[0m",
      "\u001b[0;31mAttributeError\u001b[0m                            Traceback (most recent call last)",
      "Input \u001b[0;32mIn [12]\u001b[0m, in \u001b[0;36m<cell line: 4>\u001b[0;34m()\u001b[0m\n\u001b[1;32m      1\u001b[0m \u001b[38;5;28;01mimport\u001b[39;00m \u001b[38;5;21;01mnetworkx\u001b[39;00m \u001b[38;5;28;01mas\u001b[39;00m \u001b[38;5;21;01mnx\u001b[39;00m\n\u001b[1;32m      3\u001b[0m \u001b[38;5;66;03m# Get G egdes to dataframe\u001b[39;00m\n\u001b[0;32m----> 4\u001b[0m edge_df \u001b[38;5;241m=\u001b[39m \u001b[43mnx\u001b[49m\u001b[38;5;241;43m.\u001b[39;49m\u001b[43mto_pandas_edgelist\u001b[49m\u001b[43m(\u001b[49m\u001b[43mgraph\u001b[49m\u001b[43m)\u001b[49m \n\u001b[1;32m      6\u001b[0m \u001b[38;5;66;03m# Transform networkx nodes to dataframe\u001b[39;00m\n\u001b[1;32m      7\u001b[0m nodelist \u001b[38;5;241m=\u001b[39m \u001b[38;5;28mlist\u001b[39m(graph\u001b[38;5;241m.\u001b[39mnodes(data\u001b[38;5;241m=\u001b[39m\u001b[38;5;28;01mTrue\u001b[39;00m)) \u001b[38;5;66;03m# From G to list\u001b[39;00m\n",
      "File \u001b[0;32m~/.local/lib/python3.10/site-packages/networkx/convert_matrix.py:289\u001b[0m, in \u001b[0;36mto_pandas_edgelist\u001b[0;34m(G, source, target, nodelist, dtype, order, edge_key)\u001b[0m\n\u001b[1;32m    286\u001b[0m \u001b[38;5;28;01mimport\u001b[39;00m \u001b[38;5;21;01mpandas\u001b[39;00m \u001b[38;5;28;01mas\u001b[39;00m \u001b[38;5;21;01mpd\u001b[39;00m\n\u001b[1;32m    288\u001b[0m \u001b[38;5;28;01mif\u001b[39;00m nodelist \u001b[38;5;129;01mis\u001b[39;00m \u001b[38;5;28;01mNone\u001b[39;00m:\n\u001b[0;32m--> 289\u001b[0m     edgelist \u001b[38;5;241m=\u001b[39m \u001b[43mG\u001b[49m\u001b[38;5;241;43m.\u001b[39;49m\u001b[43medges\u001b[49m(data\u001b[38;5;241m=\u001b[39m\u001b[38;5;28;01mTrue\u001b[39;00m)\n\u001b[1;32m    290\u001b[0m \u001b[38;5;28;01melse\u001b[39;00m:\n\u001b[1;32m    291\u001b[0m     edgelist \u001b[38;5;241m=\u001b[39m G\u001b[38;5;241m.\u001b[39medges(nodelist, data\u001b[38;5;241m=\u001b[39m\u001b[38;5;28;01mTrue\u001b[39;00m)\n",
      "\u001b[0;31mAttributeError\u001b[0m: 'dict' object has no attribute 'edges'"
     ]
    }
   ],
   "source": [
    "import networkx as nx\n",
    "\n",
    "# Get G egdes to dataframe\n",
    "edge_df = nx.to_pandas_edgelist(graph) \n",
    "\n",
    "# Transform networkx nodes to dataframe\n",
    "nodelist = list(graph.nodes(data=True)) # From G to list\n",
    "node_df = pd.DataFrame(nodelist, columns=['vertex', 'name_attribute']) # From list to DF\n",
    "\n",
    "df = pd.DataFrame(data.data, columns=labels)\n",
    "df['target'] = pd.Series(data.target)"
   ]
  },
  {
   "cell_type": "code",
   "execution_count": null,
   "id": "1febf5ea",
   "metadata": {},
   "outputs": [],
   "source": []
  }
 ],
 "metadata": {
  "kernelspec": {
   "display_name": "Python 3 (ipykernel)",
   "language": "python",
   "name": "python3"
  },
  "language_info": {
   "codemirror_mode": {
    "name": "ipython",
    "version": 3
   },
   "file_extension": ".py",
   "mimetype": "text/x-python",
   "name": "python",
   "nbconvert_exporter": "python",
   "pygments_lexer": "ipython3",
   "version": "3.10.4"
  }
 },
 "nbformat": 4,
 "nbformat_minor": 5
}
